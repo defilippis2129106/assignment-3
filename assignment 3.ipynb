{
 "cells": [
  {
   "cell_type": "markdown",
   "metadata": {},
   "source": [
    "# LGIS exercise\n",
    "\n",
    "Given: A positive integer n≤10000 followed by a permutation π of length n.\n",
    "\n",
    "Return: A longest increasing subsequence of π, followed by a longest decreasing subsequence of π."
   ]
  },
  {
   "cell_type": "code",
   "execution_count": null,
   "metadata": {},
   "outputs": [],
   "source": [
    "# we want to find the longest increasing sequence (LIS)\n",
    "def LISEQ(seq):\n",
    "    n = len(seq)\n",
    "    table = [1] * n # I create this table to store the length of our LIS, \n",
    "                    # I put all value equal to 1 cause the LIS at each index is at least the element itself\n",
    "    pred = [-1] * n # this array is needed to trace back the sequence to reconstruct it\n",
    "                    # it keeps track of which element in the sequence came just before a given element in the LIS\n",
    "                    # -1 cause the first element has no predecessor\n",
    "\n",
    "    # now we calculate the LIS using dynamic programming\n",
    "    for i in range(n):\n",
    "        for j in range(i):\n",
    "            if seq[j] < seq[i] and table[j] + 1 > table[i]: # this means that if seq[j] < seq[i], seq[i] can extend the LIS ending at seq[j]\n",
    "                                                            # then it checks if extending the sequence gives a longer LIS\n",
    "                table[i] = table[j] + 1 # we update the LIS length \n",
    "                pred[i] = j             # and we update the pred as well\n",
    "\n",
    "    # now we need to reconstruct the LIS\n",
    "    lis = []\n",
    "    idx = table.index(max(table)) # we find the index of the max LIS length\n",
    "    while idx != -1:              # the while loop assures that we trace back till there are no predecessors\n",
    "        lis.append(seq[idx])      # we add the element to the LIS\n",
    "        idx = pred[idx]           # and update to move to the predecessor of the current element\n",
    "\n",
    "    return lis[::-1] # now we need to reverse the LIS since it was constructed backwards\n",
    "\n",
    "# now we want to find the longest decreasing sequence (LDS)\n",
    "def LDSEQ(seq):\n",
    "    return LISEQ(seq[::-1])[::-1]  # to do this, we reverse the input sequence, then find the LIS of the reversed sequence\n",
    "                                   # and then reverse the result back to get the LDS\n",
    "\n",
    "def filereader(input_file):\n",
    "    with open(input_file, 'r') as file:\n",
    "        n = int(file.readline().strip())  \n",
    "        perm = list(map(int, file.readline().strip().split()))\n",
    "    return perm\n",
    "\n",
    "input_file = 'rosalind_lgis.txt'  \n",
    "perm = filereader(input_file)\n",
    "result1 = LISEQ(perm)  # the longest increasing sequence\n",
    "result2 = LDSEQ(perm)  # the longest decreasing sequence\n",
    "\n",
    "print(\" \".join(map(str, result1)))\n",
    "print(\" \".join(map(str, result2)))"
   ]
  },
  {
   "cell_type": "markdown",
   "metadata": {},
   "source": [
    "# SSEQ exercise\n",
    "\n",
    "Given: Two DNA strings s and t (each of length at most 1 kbp) in FASTA format.\n",
    " \n",
    "Return: One collection of indices of s in which the symbols of t appear as a subsequence of s."
   ]
  },
  {
   "cell_type": "code",
   "execution_count": null,
   "metadata": {},
   "outputs": [],
   "source": [
    "from Bio import SeqIO\n",
    "\n",
    "def SSEQ(input_file):\n",
    "    records = list(SeqIO.parse(input_file, \"fasta\"))\n",
    "    s = str(records[0].seq)  \n",
    "    t = str(records[1].seq)  # this is the substring we want to find in s\n",
    "\n",
    "    position = 0 # I inizialize the starting position to search in the sequence s\n",
    "    indices = [] # I inizialize this empty list to store the indices of of s in which the symbols of t appear as a subsequence of s\n",
    "\n",
    "    \n",
    "    # first we need to iterate over each character in t (the subsequence we are searching for)\n",
    "    for i in range(len(t)):\n",
    "        for j in range(position, len(s)): # then we search for t[i] in s starting from position = 0 (which will later be updated)\n",
    "            if t[i] == s[j]:\n",
    "                indices.append(j + 1)     # if the elements are equal then we append the idx (and add 1 for 1-based indexing in biological sequences)\n",
    "                position = j + 1          # then we update our position to the next character in s\n",
    "                break                     # the last step is to break the inner loop and move to the next character in t\n",
    "\n",
    "    return ' '.join(map(str, indices)) # to make the output as the one on rosalind we return the indices as a space-separated string\n",
    " \n",
    "input_file = \"rosalind_sseq.txt\"\n",
    "result = SSEQ(input_file)\n",
    "print(result)"
   ]
  },
  {
   "cell_type": "markdown",
   "metadata": {},
   "source": [
    "# LCSQ exercise \n",
    "\n",
    "Given: Two DNA strings s and t (each having length at most 1 kbp) in FASTA format.\n",
    "\n",
    "Return: A longest common subsequence of s and t.\n",
    "        (If more than one solution exists, you may return any one.)"
   ]
  },
  {
   "cell_type": "code",
   "execution_count": null,
   "metadata": {},
   "outputs": [],
   "source": [
    "from Bio import SeqIO\n",
    "\n",
    "def filereader(input_file):\n",
    "    sequences = list(SeqIO.parse(input_file, \"fasta\"))\n",
    "    s = str(sequences[0].seq)\n",
    "    t = str(sequences[1].seq)\n",
    "    return s, t\n",
    "\n",
    "# we want to find the longest common subsequence of s and t\n",
    "def LCSQ(s, t):\n",
    "    len_s, len_t = len(s), len(t)\n",
    "\n",
    "    # first we create a matrix/table to store the LCS lengths\n",
    "    table = [[0] * (len_t + 1) for _ in range(len_s + 1)]  # (len_s + 1) rows, (len_t + 1) columns, +1 to account for empty substrings\n",
    "\n",
    "    # then we need to fill the table by looping through each character in both sequences\n",
    "    for row in range(1, len_s + 1):  \n",
    "        for col in range(1, len_t + 1):  \n",
    "            if s[row - 1] == t[col - 1]:                                        # if characters match at position (row-1, col-1)\n",
    "                table[row][col] = table[row - 1][col - 1] + 1                   # we extend LCS by 1 (diagonal + 1)\n",
    "            else:  \n",
    "                table[row][col] = max(table[row - 1][col], table[row][col - 1]) # if characters don't match, we take the max of the left or top value\n",
    "\n",
    "    # then we backtrack to construct the actual LCS string\n",
    "    lcs = []  # to store the LCS characters\n",
    "    row, col = len_s, len_t  \n",
    "\n",
    "\n",
    "    while row > 0 and col > 0:          # we start from the bottom-right of the table and continue until we reach the top or left edge\n",
    "        if s[row - 1] == t[col - 1]:    # if the characters match\n",
    "            lcs.append(s[row - 1])      # we add the character lcs result\n",
    "            row -= 1                    # then we move diagonally up-left\n",
    "            col -= 1\n",
    "        elif table[row - 1][col] >= table[row][col - 1]:  # if there's no match, if the LCS length above is greater or equal\n",
    "            row -= 1                                      # we move up in the table\n",
    "        else:                                             # else, we move left in the table\n",
    "            col -= 1\n",
    "\n",
    "    # the last step is to reverse the result since we constructed it backward\n",
    "    return ''.join(reversed(lcs))\n",
    "\n",
    "input_file = \"rosalind_lcsq.txt\"  \n",
    "s, t = filereader(input_file)  \n",
    "result = LCSQ(s, t)  \n",
    "print(result)"
   ]
  },
  {
   "cell_type": "markdown",
   "metadata": {},
   "source": [
    "# EDIT exercise \n",
    "\n",
    "Given: Two protein strings s and t in FASTA format (each of length at most 1000 aa).\n",
    "\n",
    "Return: The edit distance dE(s,t)."
   ]
  },
  {
   "cell_type": "code",
   "execution_count": null,
   "metadata": {},
   "outputs": [],
   "source": [
    "from Bio import SeqIO \n",
    "\n",
    "def filereader(input_file):\n",
    "\n",
    "    records = list(SeqIO.parse(input_file, \"fasta\")) \n",
    "    s = str(records[0].seq) \n",
    "    t = str(records[1].seq)  \n",
    "    return s, t\n",
    "\n",
    "# we compute the minimum edit distance (number of insertions, deletions, substitutions)\n",
    "# needed to transform string s into string t\n",
    "\n",
    "def EDIT(s, t):\n",
    "    m, n = len(s), len(t)  \n",
    "\n",
    "    # we create a matrix/table to store the edit distances between substrings of s and t\n",
    "    table = [[0] * (n + 1) for x in range(m + 1)]\n",
    "\n",
    "    # then we initialize the table for the base cases:\n",
    "    # if t is empty, all characters in s need to be deleted\n",
    "    for i in range(m + 1):\n",
    "        table[i][0] = i  \n",
    "    # if s is empty, all characters in t need to be inserted\n",
    "    for j in range(n + 1):\n",
    "        table[0][j] = j  \n",
    "\n",
    "    # we fill the table by looping through each character in s (rows) and t (columns)\n",
    "    for i in range(1, m + 1):                        # we iterate over characters in s\n",
    "        for j in range(1, n + 1):                    # we iterate over characters in t\n",
    "            if s[i - 1] == t[j - 1]:                 # if the characters match, no operation is needed\n",
    "                table[i][j] = table[i - 1][j - 1]\n",
    "            else:\n",
    "                table[i][j] = min(\n",
    "                    table[i - 1][j] + 1,  # deletion\n",
    "                    table[i][j - 1] + 1,  # insertion\n",
    "                    table[i - 1][j - 1] + 1  # substitution\n",
    "                )\n",
    "                # otherwise, we take the minimum of the following operations:\n",
    "                # deletion: we remove a character from s \n",
    "                # insertion: we add a character to s to match t \n",
    "                # substitution: we change a character in s to match t \n",
    "\n",
    "    return table[m][n]     # the final value in the table is the minimum edit distance\n",
    "\n",
    "input_file = \"rosalind_edit.txt\"  \n",
    "s, t = filereader(input_file)  \n",
    "result = EDIT(s, t) \n",
    "print(result) "
   ]
  },
  {
   "cell_type": "markdown",
   "metadata": {},
   "source": [
    "# EDTA exercise \n",
    "\n",
    "Given: Two protein strings s and t in FASTA format (with each string having length at most 1000 aa).\n",
    "\n",
    "Return: The edit distance dE(s,t) followed by two augmented strings s' and t' representing an optimal alignment of sand t."
   ]
  },
  {
   "cell_type": "code",
   "execution_count": null,
   "metadata": {},
   "outputs": [],
   "source": [
    "from Bio import SeqIO  \n",
    "\n",
    "def filereader(input_file):\n",
    "    records = list(SeqIO.parse(input_file, \"fasta\"))\n",
    "    s = str(records[0].seq)  \n",
    "    t = str(records[1].seq)\n",
    "    return s, t\n",
    "\n",
    "def EDTA(s, t):\n",
    "    m, n = len(s), len(t)  \n",
    "\n",
    "    # we first create a table to store the edit distances \n",
    "    table = [[0] * (n + 1) for x in range(m + 1)]\n",
    "\n",
    "    # then we initialize the table for the base cases\n",
    "    for i in range(m + 1):\n",
    "        table[i][0] = i  # if t is empty, delete all characters in s\n",
    "    for j in range(n + 1):\n",
    "        table[0][j] = j  # if s is empty, insert all characters from t\n",
    "\n",
    "    # then we fill the table with the minimum edit distances\n",
    "    for i in range(1, m + 1):\n",
    "        for j in range(1, n + 1):\n",
    "            if s[i - 1] == t[j - 1]:                  # if the characters match no modification is needed\n",
    "                table[i][j] = table[i - 1][j - 1]\n",
    "            else:\n",
    "                table[i][j] = min(                     \n",
    "                    table[i - 1][j] + 1,  # deletion\n",
    "                    table[i][j - 1] + 1,  # insertion\n",
    "                    table[i - 1][j - 1] + 1  # substitution\n",
    "                )\n",
    "                # otherwise, we take the minimum of the following operations:\n",
    "                # deletion: we remove a character from s \n",
    "                # insertion: we add a character to s to match t \n",
    "                # substitution: we change a character in s to match t \n",
    "\n",
    "    # then we backtrack to find the alignment of the each string\n",
    "    align_s = []\n",
    "    align_t = []\n",
    "    i, j = m, n # we start from the bottom-right of the table\n",
    "\n",
    "    while i > 0 or j > 0:\n",
    "        if i > 0 and j > 0 and s[i - 1] == t[j - 1]:           # if characters match no operation needed, we just add them to the alignment\n",
    "            align_s.append(s[i - 1])\n",
    "            align_t.append(t[j - 1])\n",
    "            i -= 1                                             # we move diagonally up-left\n",
    "            j -= 1\n",
    "        elif i > 0 and table[i - 1][j] + 1 == table[i][j]:     # if we are moving up (deletion)\n",
    "            align_s.append(s[i - 1])                           # we add the character from s to align_s\n",
    "            align_t.append('-')                                # and we add a gap '-' to align_t (because this character in t is missing)\n",
    "            i -= 1                                             # we move up (deleting a character from s)\n",
    "        elif j > 0 and table[i][j - 1] + 1 == table[i][j]:     # if we are moving left (insertion)\n",
    "            align_s.append('-')                                # we add a gap '-' to align_s (because this character in s is missing)\n",
    "            align_t.append(t[j - 1])                           # and we add the character from t to align_t\n",
    "            j -= 1                                             # we move left (inserting a character into s)\n",
    "        else:                         # substitution\n",
    "            align_s.append(s[i - 1])  # we add the character from s to the alignment \n",
    "            align_t.append(t[j - 1])  # we add the character from t to the alignment\n",
    "            i -= 1                    # move diagonally up-left\n",
    "            j -= 1\n",
    "\n",
    "\n",
    "        \n",
    "    # the last step is to reverse the aligned strings because we backtracked to make them \n",
    "    align_s.reverse()\n",
    "    align_t.reverse()\n",
    "\n",
    "    return table[m][n], ''.join(align_s), ''.join(align_t)\n",
    "\n",
    "input_file = \"rosalind_edta.txt\"  \n",
    "s, t = filereader(input_file) \n",
    "result, align_s, align_t = EDTA(s, t)  \n",
    "print(result)  # the edit distance\n",
    "print(align_s)  # the aligned string s'\n",
    "print(align_t)  # the aligned string t'"
   ]
  },
  {
   "cell_type": "markdown",
   "metadata": {},
   "source": [
    "# CTEA exercise \n",
    "\n",
    "Given: Two protein strings s and t in FASTA format, each of length at most 1000 aa.\n",
    "\n",
    "Return: The total number of optimal alignments of s and t with respect to edit alignment score, modulo 134,217,727 (227-1)."
   ]
  },
  {
   "cell_type": "code",
   "execution_count": null,
   "metadata": {},
   "outputs": [],
   "source": [
    "from Bio import SeqIO\n",
    "\n",
    "def filereader(input_file):\n",
    "    records = list(SeqIO.parse(input_file, \"fasta\"))\n",
    "    s = str(records[0].seq)  \n",
    "    t = str(records[1].seq) \n",
    "    return s, t\n",
    "\n",
    "def CTEA(s, t):\n",
    "    modulo = 134217727\n",
    "    m, n = len(s), len(t)\n",
    "\n",
    "    table = [[0] * (n + 1) for x in range(m + 1)]         # we inizialize table to store the minimum edit distance at each position\n",
    "    counter_ways = [[0] * (n + 1) for x in range(m + 1)]  # we inizialize counter_ways to store the number of ways to achieve the minimum edit distance\n",
    "    \n",
    "    # then we inizialize them for the base cases\n",
    "    for i in range(m + 1):           # if t is empty to convert s into t we have to delete all characters in s\n",
    "        table[i][0] = i              # the number of deletions is i\n",
    "        counter_ways[i][0] = 1       # and there's only one way to achieve this\n",
    "    for j in range(n + 1):           # if s is empty we need to insert all characters in t\n",
    "        table[0][j] = j              # the number of insertion is j\n",
    "        counter_ways[0][j] = 1       # and there only one way as well to achieve this\n",
    "     \n",
    "    # firstly we need to compute the substitution cost\n",
    "    for i in range(1, m + 1):\n",
    "        for j in range(1, n + 1):\n",
    "            if s[i - 1] == t[j - 1]:\n",
    "                amount = 0  # if characters are equal no substitution is needed \n",
    "            else:\n",
    "                amount = 1  # if the characters are different the cost of the substitution is 1\n",
    "            \n",
    "            # now we need to compute the minimum cost to achieve the conversion between substitution, deletion and insertion\n",
    "            minimum = min(table[i - 1][j - 1] + amount, table[i - 1][j] + 1, table[i][j - 1] + 1)\n",
    "            table[i][j] = minimum # then we store the minimum cost in the table\n",
    "            \n",
    "            # then we have to count the number of ways to achieve this minimum cost\n",
    "            if table[i][j] == table[i - 1][j - 1] + amount:                # if substitution was used\n",
    "                counter_ways[i][j] += counter_ways[i - 1][j - 1]\n",
    "            if table[i][j] == table[i - 1][j] + 1:                         # if deletion was used\n",
    "                counter_ways[i][j] += counter_ways[i - 1][j]\n",
    "            if table[i][j] == table[i][j - 1] + 1:                         # if insertion was used\n",
    "                counter_ways[i][j] += counter_ways[i][j - 1]\n",
    "            \n",
    "            counter_ways[i][j] %= modulo        # this is the result modulo 134217727 as asked by rosalind\n",
    "    \n",
    "    \n",
    "    return counter_ways[m][n]     # last step is to return the total number of optimal alignments\n",
    "                                  # the value at counter_ways[m][n] gives the number of ways to achieve\n",
    "                                  # the minimum edit distance between the strings s and t\n",
    "\n",
    "\n",
    "input_file = \"rosalind_ctea.txt\"\n",
    "s, t = filereader(input_file)\n",
    "    \n",
    "result = CTEA(s, t)\n",
    "print(result)"
   ]
  },
  {
   "cell_type": "markdown",
   "metadata": {},
   "source": [
    "# GLOB exercise \n",
    "\n",
    "Given: Two protein strings s and t in FASTA format (each of length at most 1000 aa).\n",
    "\n",
    "Return: The maximum alignment score between s and t"
   ]
  },
  {
   "cell_type": "code",
   "execution_count": null,
   "metadata": {},
   "outputs": [],
   "source": [
    "from Bio import SeqIO\n",
    "\n",
    "sub_matrix = [\n",
    "    [4, 0, -2, -1, -2, 0, -2, -1, -1, -1, -1, -2, -1, -1, -1, 1, 0, 0, -3, -2],\n",
    "    [0, 9, -3, -4, -2, -3, -3, -1, -3, -1, -1, -3, -3, -3, -3, -1, -1, -1, -2, -2],\n",
    "    [-2, -3, 6, 2, -3, -1, -1, -3, -1, -4, -3, 1, -1, 0, -2, 0, -1, -3, -4, -3],\n",
    "    [-1, -4, 2, 5, -3, -2, 0, -3, 1, -3, -2, 0, -1, 2, 0, 0, -1, -2, -3, -2],\n",
    "    [-2, -2, -3, -3, 6, -3, -1, 0, -3, 0, 0, -3, -4, -3, -3, -2, -2, -1, 1, 3],\n",
    "    [0, -3, -1, -2, -3, 6, -2, -4, -2, -4, -3, 0, -2, -2, -2, 0, -2, -3, -2, -3],\n",
    "    [-2, -3, -1, 0, -1, -2, 8, -3, -1, -3, -2, 1, -2, 0, 0, -1, -2, -3, -2, 2],\n",
    "    [-1, -1, -3, -3, 0, -4, -3, 4, -3, 2, 1, -3, -3, -3, -3, -2, -1, 3, -3, -1],\n",
    "    [-1, -3, -1, 1, -3, -2, -1, -3, 5, -2, -1, 0, -1, 1, 2, 0, -1, -2, -3, -2],\n",
    "    [-1, -1, -4, -3, 0, -4, -3, 2, -2, 4, 2, -3, -3, -2, -2, -2, -1, 1, -2, -1],\n",
    "    [-1, -1, -3, -2, 0, -3, -2, 1, -1, 2, 5, -2, -2, 0, -1, -1, -1, 1, -1, -1],\n",
    "    [-2, -3, 1, 0, -3, 0, 1, -3, 0, -3, -2, 6, -2, 0, 0, 1, 0, -3, -4, -2],\n",
    "    [-1, -3, -1, -1, -4, -2, -2, -3, -1, -3, -2, -2, 7, -1, -2, -1, -1, -2, -4, -3],\n",
    "    [-1, -3, 0, 2, -3, -2, 0, -3, 1, -2, 0, 0, -1, 5, 1, 0, -1, -2, -2, -1],\n",
    "    [-1, -3, -2, 0, -3, -2, 0, -3, 2, -2, -1, 0, -2, 1, 5, -1, -1, -3, -3, -2],\n",
    "    [1, -1, 0, 0, -2, 0, -1, -2, 0, -2, -1, 1, -1, 0, -1, 4, 1, -2, -3, -2],\n",
    "    [0, -1, -1, -1, -2, -2, -2, -1, -1, -1, -1, 0, -1, -1, -1, 1, 5, 0, -2, -2],\n",
    "    [0, -1, -3, -2, -1, -3, -3, 3, -2, 1, 1, -3, -2, -2, -3, -2, 0, 4, -3, -1],\n",
    "    [-3, -2, -4, -3, 1, -2, -2, -3, -3, -2, -1, -4, -4, -2, -3, -3, -2, -3, 11, 2],\n",
    "    [-2, -2, -3, -2, 3, -3, 2, -1, -2, -1, -1, -2, -3, -1, -2, -2, -2, -1, 2, 7]\n",
    "]\n",
    "\n",
    "# the one above is a substitution matrix for scoring the alignment of amino acids\n",
    "\n",
    "aminoacids = ['A', 'C', 'D', 'E', 'F', 'G', 'H', 'I', 'K', 'L', 'M', 'N', 'P', 'Q', 'R', 'S', 'T', 'V', 'W', 'Y']\n",
    "# this is a list containing the 20 standard amino acids, represented by their one-letter codes\n",
    "indices = {aa: idx for idx, aa in enumerate(aminoacids)} #  the indices give the row and col in the sub_matrix\n",
    "gap_pen = -5 #gap penalty given by the problem\n",
    "\n",
    "def filereader(input_file):\n",
    "    records = list(SeqIO.parse(input_file, \"fasta\"))\n",
    "    s = str(records[0].seq)  \n",
    "    t = str(records[1].seq) \n",
    "    return s, t\n",
    "\n",
    "# we define a function to compute the optimal alignment score\n",
    "def GLOB(s, t):\n",
    "    len_s = len(s)\n",
    "    len_t = len(t)\n",
    "    \n",
    "    table = [[0] * (len_t + 1) for x in range(len_s + 1)]\n",
    "    \n",
    "    # firstly we initialize the first row and first column with gap penalties\n",
    "    for i in range(1, len_s + 1):\n",
    "        table[i][0] = table[i - 1][0] + gap_pen # these are the gap penalties for the s sequence\n",
    "    for j in range(1, len_t + 1):\n",
    "        table[0][j] = table[0][j - 1] + gap_pen # these are the gap penalties for the t sequence\n",
    "    \n",
    "    # then we fill the rest of the table by comparing all pairs of characters from s and t\n",
    "    for i in range(1, len_s + 1):\n",
    "        for j in range(1, len_t + 1):\n",
    "            score = sub_matrix[indices[s[i - 1]]][indices[t[j - 1]]] # we get the substitution score for aligning s[i-1] with t[j-1] from the matrix\n",
    "            \n",
    "            # then we calculate maximum score considering match/mismatch or gaps\n",
    "            table[i][j] = max(\n",
    "                table[i - 1][j - 1] + score,  # if there's a match/mismatch, substitution\n",
    "                table[i - 1][j] + gap_pen,    # if there's an insertion of a gap in sequence t (deletion in sequence s)\n",
    "                table[i][j - 1] + gap_pen     # if there's an insertion of a gap in sequence s (deletion in sequence t)\n",
    "            )\n",
    "    \n",
    "    # the last step is to return the bottom-right value, which is the optimal score\n",
    "    return table[len_s][len_t]\n",
    "\n",
    "\n",
    "input_file = \"rosalind_glob.txt\"  \n",
    "s, t = filereader(input_file)\n",
    "result = GLOB(s, t)\n",
    "print(result)"
   ]
  },
  {
   "cell_type": "code",
   "execution_count": 15,
   "metadata": {
    "executionInfo": {
     "elapsed": 403,
     "status": "ok",
     "timestamp": 1732181925083,
     "user": {
      "displayName": "Marco Zecchini",
      "userId": "04080461015443912025"
     },
     "user_tz": -60
    },
    "id": "NZLKEFGqpkza"
   },
   "outputs": [],
   "source": [
    "from random import randint, choice"
   ]
  },
  {
   "cell_type": "markdown",
   "metadata": {
    "id": "7kMDITdMpkzc"
   },
   "source": [
    "# Map Reduce\n",
    "\n",
    "In the part of the assignment you are requested to use Map Reduce paradigm to solve the following exercises.\n",
    "\n",
    "**NOTE THAT**: **A solution that does not use map reduce is not valid!**"
   ]
  },
  {
   "cell_type": "markdown",
   "metadata": {
    "id": "3UvFKq5Dpkzd"
   },
   "source": [
    "# Exercise 1\n",
    "\n",
    "You have a list of dictionaries, each representing a student with the following properties: a name and an array of test scores. Your task is to use map, filter, and reduce to calculate the average test score for each student, and then return a list of dictionaries containing only the students whose average score is above 90."
   ]
  },
  {
   "cell_type": "code",
   "execution_count": 10,
   "metadata": {
    "id": "XnZxeOdtpkze"
   },
   "outputs": [],
   "source": [
    "students = [\n",
    "    {\"name\": \"Alice\", \"scores\": [95, 92, 88, 100]},\n",
    "    {\"name\": \"Bob\", \"scores\": [78, 81, 85, 80]},\n",
    "    {\"name\": \"Charlie\", \"scores\": [99, 91, 94, 96]},\n",
    "    {\"name\": \"Diana\", \"scores\": [85, 87, 89, 83]}\n",
    "]"
   ]
  },
  {
   "cell_type": "markdown",
   "metadata": {
    "id": "WopOVxHSpkzf"
   },
   "source": [
    "Use `map`, `reduce` and `filter` that produce an output like:"
   ]
  },
  {
   "cell_type": "code",
   "execution_count": 11,
   "metadata": {
    "id": "JGYCqweYpkzf",
    "outputId": "89230ab4-a15a-4ae5-84a3-9eb13573a4a0"
   },
   "outputs": [
    {
     "data": {
      "text/plain": [
       "[{'name': 'Alice', 'average_score': 93.75},\n",
       " {'name': 'Charlie', 'average_score': 95.0}]"
      ]
     },
     "execution_count": 11,
     "metadata": {},
     "output_type": "execute_result"
    }
   ],
   "source": [
    "[\n",
    "    {\"name\": \"Alice\", \"average_score\": 93.75},\n",
    "    {\"name\": \"Charlie\", \"average_score\": 95.0}\n",
    "]"
   ]
  },
  {
   "cell_type": "markdown",
   "metadata": {
    "id": "TG5h3pN1pkzg"
   },
   "source": [
    "### Test\n",
    "Test your solution using the dataset generated by the following function."
   ]
  },
  {
   "cell_type": "code",
   "execution_count": null,
   "metadata": {
    "colab": {
     "base_uri": "https://localhost:8080/"
    },
    "executionInfo": {
     "elapsed": 285,
     "status": "ok",
     "timestamp": 1732181928585,
     "user": {
      "displayName": "Marco Zecchini",
      "userId": "04080461015443912025"
     },
     "user_tz": -60
    },
    "id": "3ZB3sFT_pkzh",
    "outputId": "cf486e14-4d6f-455d-8f69-19096dfe9831"
   },
   "outputs": [
    {
     "data": {
      "text/plain": [
       "[{'name': 'Student 1', 'scores': [87, 100, 94]},\n",
       " {'name': 'Student 2', 'scores': [76, 88, 85]},\n",
       " {'name': 'Student 3', 'scores': [58, 80, 66]}]"
      ]
     },
     "execution_count": 21,
     "metadata": {},
     "output_type": "execute_result"
    }
   ],
   "source": [
    "def generate_random_student_dataset(num_students=50):\n",
    "    names = [f\"Student {i}\" for i in range(1, num_students + 1)]\n",
    "    dataset = [\n",
    "        {\n",
    "            \"name\": name,\n",
    "            \"scores\": [randint(50, 100) for _ in range(randint(3, 6))]  # Random scores between 50 and 100\n",
    "        }\n",
    "        for name in names\n",
    "    ]\n",
    "    return dataset\n",
    "\n",
    "random_student_dataset = generate_random_student_dataset(50)\n",
    "random_student_dataset[:3]"
   ]
  },
  {
   "cell_type": "code",
   "execution_count": 12,
   "metadata": {
    "id": "MHi3FLeWpkzi"
   },
   "outputs": [
    {
     "data": {
      "text/plain": [
       "[{'name': 'Alice', 'average_score': 93.75},\n",
       " {'name': 'Charlie', 'average_score': 95.0}]"
      ]
     },
     "execution_count": 12,
     "metadata": {},
     "output_type": "execute_result"
    }
   ],
   "source": [
    "# your code goes here\n",
    "\n",
    "import functools\n",
    "def average(student):\n",
    "    tot_score = functools.reduce(lambda x, y: x + y, student['scores'])\n",
    "    average_score = tot_score / len(student['scores'])\n",
    "    return  { \"name\": student[\"name\"], \"average_score\": average_score }\n",
    "\n",
    "students_average = list(map(average, students))\n",
    "\n",
    "average_score = filter(lambda student: student[\"average_score\"] > 90, students_average)\n",
    "\n",
    "list(average_score)\n"
   ]
  },
  {
   "cell_type": "markdown",
   "metadata": {
    "id": "hWL_3xWNpkzj"
   },
   "source": [
    "## Exercise 2\n",
    "\n",
    "You have a list of dictionaries, each representing a product with the following properties: name, price, and category. Using the functions `map`, `filter`, and `reduce`, calculate the average price of the products in each category and return a list of dictionaries containing only the categories where the average price exceeds 50.\n",
    "\n",
    "Example input:"
   ]
  },
  {
   "cell_type": "code",
   "execution_count": 13,
   "metadata": {
    "id": "wwk7f8Ihpkzk"
   },
   "outputs": [],
   "source": [
    "products = [\n",
    "    {\"name\": \"Product A\", \"price\": 60, \"category\": \"Electronics\"},\n",
    "    {\"name\": \"Product B\", \"price\": 40, \"category\": \"Electronics\"},\n",
    "    {\"name\": \"Product C\", \"price\": 70, \"category\": \"Home\"},\n",
    "    {\"name\": \"Product D\", \"price\": 30, \"category\": \"Home\"},\n",
    "    {\"name\": \"Product E\", \"price\": 90, \"category\": \"Sports\"}\n",
    "]"
   ]
  },
  {
   "cell_type": "markdown",
   "metadata": {
    "id": "Agz3cP7Ppkzl"
   },
   "source": [
    "Use `map`, `reduce` and `filter` that produce an output like:"
   ]
  },
  {
   "cell_type": "code",
   "execution_count": null,
   "metadata": {
    "id": "LbFtUV_apkzl",
    "outputId": "745cdcbe-7320-4a08-de7b-0e1bcb84473e"
   },
   "outputs": [
    {
     "data": {
      "text/plain": [
       "[{'category': 'Electronics', 'average_price': 50.0},\n",
       " {'category': 'Sports', 'average_price': 90.0}]"
      ]
     },
     "execution_count": 24,
     "metadata": {},
     "output_type": "execute_result"
    }
   ],
   "source": [
    "[\n",
    "    {\"category\": \"Electronics\", \"average_price\": 50.0},\n",
    "    {\"category\": \"Sports\", \"average_price\": 90.0}\n",
    "]"
   ]
  },
  {
   "cell_type": "markdown",
   "metadata": {
    "id": "nKBEAQE3pkzl"
   },
   "source": [
    "### Test\n",
    "Test your solution using the dataset generated by the following function."
   ]
  },
  {
   "cell_type": "code",
   "execution_count": 16,
   "metadata": {
    "colab": {
     "base_uri": "https://localhost:8080/"
    },
    "executionInfo": {
     "elapsed": 284,
     "status": "ok",
     "timestamp": 1732181933353,
     "user": {
      "displayName": "Marco Zecchini",
      "userId": "04080461015443912025"
     },
     "user_tz": -60
    },
    "id": "0qj_9nZSpkzm",
    "outputId": "7bab35c7-84d0-4603-a1da-dc4a76768179"
   },
   "outputs": [
    {
     "data": {
      "text/plain": [
       "[{'name': 'Product 1', 'price': 64, 'category': 'Sports'},\n",
       " {'name': 'Product 2', 'price': 196, 'category': 'Electronics'},\n",
       " {'name': 'Product 3', 'price': 154, 'category': 'Books'},\n",
       " {'name': 'Product 4', 'price': 44, 'category': 'Clothing'},\n",
       " {'name': 'Product 5', 'price': 116, 'category': 'Home'}]"
      ]
     },
     "execution_count": 16,
     "metadata": {},
     "output_type": "execute_result"
    }
   ],
   "source": [
    "def generate_random_product_dataset(num_products=100):\n",
    "    categories = [\"Electronics\", \"Home\", \"Sports\", \"Books\", \"Clothing\", \"Toys\"]\n",
    "    dataset = [\n",
    "        {\n",
    "            \"name\": f\"Product {i}\",\n",
    "            \"price\": randint(10, 200),  # Random price between 10 and 200\n",
    "            \"category\": choice(categories),  # Randomly choose a category\n",
    "        }\n",
    "        for i in range(1, num_products + 1)\n",
    "    ]\n",
    "    return dataset\n",
    "\n",
    "# Example of using the function\n",
    "random_dataset = generate_random_product_dataset(100)\n",
    "random_dataset[:5]  # Display the first 5 entries to check the dataset structure\n"
   ]
  },
  {
   "cell_type": "code",
   "execution_count": 17,
   "metadata": {
    "id": "AG9V3Wt7pkzm"
   },
   "outputs": [
    {
     "data": {
      "text/plain": [
       "[{'category': 'Sports', 'average_price': 90.0}]"
      ]
     },
     "execution_count": 17,
     "metadata": {},
     "output_type": "execute_result"
    }
   ],
   "source": [
    "# your code goes here\n",
    "# hints: 1) Group products by category (you don't need to use map reduce for this part), then 2) use map reduce paradigm to\n",
    "# calculate the average price for each category and filter categories with an average price > 50\n",
    "import functools\n",
    "\n",
    "def categories (new_dict, product):\n",
    "    category = product[\"category\"]\n",
    "    if category not in new_dict:\n",
    "        new_dict[category] = []\n",
    "    new_dict[category].append(product)\n",
    "    return new_dict\n",
    "\n",
    "groups_cat = functools.reduce(categories, products, {})\n",
    "\n",
    "def average(category):\n",
    "    products_in_category = groups_cat[category]\n",
    "    tot_price = functools.reduce(lambda x, y: x + y[\"price\"], products_in_category, 0)\n",
    "    average_price = tot_price / len(products_in_category)\n",
    "    return {\"category\": category, \"average_price\": average_price}\n",
    "\n",
    "averages = list(map(average, groups_cat))\n",
    "\n",
    "list(filter(lambda x: x[\"average_price\"] > 50, averages))\n"
   ]
  },
  {
   "cell_type": "markdown",
   "metadata": {
    "id": "hivtZEf7pkzm"
   },
   "source": [
    "# Exercise 3\n",
    "\n",
    "You have a list of dictionaries, each representing an employee with the following properties: name, salary, and department. Your task is to use `map`, `filter`, and `reduce` to calculate the average salary for each department and return a list of dictionaries containing only the departments where the average salary is above 65,000.\n",
    "\n",
    "**Example Input**"
   ]
  },
  {
   "cell_type": "code",
   "execution_count": 18,
   "metadata": {
    "executionInfo": {
     "elapsed": 313,
     "status": "ok",
     "timestamp": 1732181936402,
     "user": {
      "displayName": "Marco Zecchini",
      "userId": "04080461015443912025"
     },
     "user_tz": -60
    },
    "id": "N8vjLRHxpkzm"
   },
   "outputs": [],
   "source": [
    "employees = [\n",
    "    {\"name\": \"John\", \"salary\": 70000, \"department\": \"Engineering\"},\n",
    "    {\"name\": \"Jane\", \"salary\": 75000, \"department\": \"Engineering\"},\n",
    "    {\"name\": \"Alice\", \"salary\": 60000, \"department\": \"HR\"},\n",
    "    {\"name\": \"Bob\", \"salary\": 68000, \"department\": \"HR\"},\n",
    "    {\"name\": \"Charlie\", \"salary\": 90000, \"department\": \"Marketing\"},\n",
    "    {\"name\": \"Diana\", \"salary\": 50000, \"department\": \"Marketing\"}\n",
    "]"
   ]
  },
  {
   "cell_type": "markdown",
   "metadata": {
    "id": "otSniMO7pkzm"
   },
   "source": [
    "Use `map`, `reduce` and `filter` that produce an output like:"
   ]
  },
  {
   "cell_type": "code",
   "execution_count": 19,
   "metadata": {
    "id": "Kx4HT8RXpkzn",
    "outputId": "8653ff13-815d-4040-c68e-fc4a6825134d"
   },
   "outputs": [
    {
     "data": {
      "text/plain": [
       "[{'department': 'Engineering', 'average_salary': 72500.0},\n",
       " {'department': 'Marketing', 'average_salary': 70000.0}]"
      ]
     },
     "execution_count": 19,
     "metadata": {},
     "output_type": "execute_result"
    }
   ],
   "source": [
    "[\n",
    "    {\"department\": \"Engineering\", \"average_salary\": 72500.0},\n",
    "    {\"department\": \"Marketing\", \"average_salary\": 70000.0}\n",
    "]"
   ]
  },
  {
   "cell_type": "markdown",
   "metadata": {
    "id": "GD_xlB78pkzn"
   },
   "source": [
    "### Test\n",
    "\n",
    "Test your solution using the dataset generated by the following function."
   ]
  },
  {
   "cell_type": "code",
   "execution_count": 21,
   "metadata": {
    "colab": {
     "base_uri": "https://localhost:8080/"
    },
    "executionInfo": {
     "elapsed": 508,
     "status": "ok",
     "timestamp": 1732181939215,
     "user": {
      "displayName": "Marco Zecchini",
      "userId": "04080461015443912025"
     },
     "user_tz": -60
    },
    "id": "RhR9JLK-pkzn",
    "outputId": "72bc934d-4d3c-477e-cf84-3cf1d8fae61a"
   },
   "outputs": [
    {
     "data": {
      "text/plain": [
       "[{'name': 'Employee 1', 'salary': 57823, 'department': 'Marketing'},\n",
       " {'name': 'Employee 2', 'salary': 79367, 'department': 'Marketing'},\n",
       " {'name': 'Employee 3', 'salary': 114713, 'department': 'Sales'}]"
      ]
     },
     "execution_count": 21,
     "metadata": {},
     "output_type": "execute_result"
    }
   ],
   "source": [
    "def generate_random_employee_dataset(num_employees=50):\n",
    "    departments = [\"Engineering\", \"HR\", \"Marketing\", \"Sales\", \"Finance\", \"IT\"]\n",
    "    dataset = [\n",
    "        {\n",
    "            \"name\": f\"Employee {i}\",\n",
    "            \"salary\": randint(40000, 120000),  # Random salary between 40,000 and 120,000\n",
    "            \"department\": choice(departments)  # Randomly choose a department\n",
    "        }\n",
    "        for i in range(1, num_employees + 1)\n",
    "    ]\n",
    "    return dataset\n",
    "\n",
    "random_employee_dataset = generate_random_employee_dataset(50)\n",
    "\n",
    "random_employee_dataset[:3]  # Display the first 3 entries of each dataset for checking\n"
   ]
  },
  {
   "cell_type": "code",
   "execution_count": 22,
   "metadata": {
    "id": "pt9m6NK-pkzo"
   },
   "outputs": [
    {
     "data": {
      "text/plain": [
       "[{'department': 'Engineering', 'average_salary': 72500.0},\n",
       " {'department': 'Marketing', 'average_salary': 70000.0}]"
      ]
     },
     "execution_count": 22,
     "metadata": {},
     "output_type": "execute_result"
    }
   ],
   "source": [
    "# your code goes here\n",
    "# hints: 1) Group employees' salaries by department (you don't need to use map reduce for this part), then 2) use map reduce paradigm to\n",
    "# calculate the average salary for each department and filter departments with an average salary > threshold\n",
    "import functools\n",
    "\n",
    "def departments(new_dict, employee):\n",
    "    department = employee[\"department\"]\n",
    "    if department not in new_dict:\n",
    "        new_dict[department] = []\n",
    "    new_dict[department].append(employee)\n",
    "    return new_dict \n",
    "\n",
    "groups_dep = functools.reduce(departments, employees, {})\n",
    "\n",
    "def average(department):\n",
    "    employees_in_dep = groups_dep[department]\n",
    "    tot_salary = functools.reduce(lambda x, y: x + y[\"salary\"], employees_in_dep, 0)\n",
    "    average_salary = tot_salary / len(employees_in_dep)\n",
    "    return {\"department\": department, \"average_salary\": average_salary}\n",
    "\n",
    "averages = list(map(average, groups_dep))\n",
    "\n",
    "list(filter(lambda x: x[\"average_salary\"] > 65000.0, averages))"
   ]
  },
  {
   "cell_type": "markdown",
   "metadata": {
    "id": "bzxr0v2Rpkzo"
   },
   "source": [
    "# Biopython\n",
    "\n",
    "Write the following five functions to analyze global alignments between two sequences using Biopython's `pairwise2` module:\n",
    "\n",
    "1. **countMatches(s1, s2)**  \n",
    "   This function takes two sequences (`s1`, `s2`) aligned using global alignment (pairwise2.globalxx) of the same length. It returns the number of positions where the elements of both sequences match.\n",
    "\n",
    "2. **countMismatches(s1, s2)**  \n",
    "   This function takes two sequences (`s1`, `s2`) aligned using global alignment of the same length. It returns the number of positions where the elements of the two sequences are different (i.e., they are not gaps, and the characters do not match).\n",
    "\n",
    "3. **countGapOpens(s1, s2)**  \n",
    "   This function takes two sequences (`s1`, `s2`) aligned using global alignment of the same length. It returns the number of gap openings in the alignment (a gap is opened when a '-' appears in the sequence).\n",
    "\n",
    "4. **countGapExtensions(s1, s2)**  \n",
    "   This function takes two sequences (`s1`, `s2`) aligned using global alignment of the same length. It returns the number of gap extensions (where '-' continues in the alignment after an initial gap is opened).\n",
    "\n",
    "5. **getScore(s1, s2, matchScore, mismatchPenalty, gapOpenPenalty, gapExtensionPenalty)**  \n",
    "   This function takes two sequences (`s1`, `s2`) aligned using global alignment and returns the alignment score based on the provided scoring scheme: `matchScore` for matches, `mismatchPenalty` for mismatches, `gapOpenPenalty` for opening a gap, and `gapExtensionPenalty` for extending a gap."
   ]
  },
  {
   "cell_type": "code",
   "execution_count": null,
   "metadata": {
    "id": "5PIaf6BUpkzo"
   },
   "outputs": [],
   "source": [
    "# Add your functions here\n",
    "\n",
    "from Bio import pairwise2\n",
    "from Bio import SeqIO\n",
    "\n",
    "def countMatches(s1, s2):\n",
    "    matches = 0 \n",
    "    for i in range(len(s1)):\n",
    "        if s1[i] == s2[i] and s1[i] != '-' and s2[i] != '-':\n",
    "            matches += 1\n",
    "    return matches\n",
    "\n",
    "def countMismatches(s1, s2):\n",
    "    mismatches = 0 \n",
    "    for i in range(len(s1)):\n",
    "        if s1[i] != s2[i] and s1[i] != '-' and s2[i] != '-':\n",
    "            mismatches += 1\n",
    "    return mismatches\n",
    "\n",
    "def countGapOpens(s1, s2):\n",
    "    gap_opens = 0\n",
    "    if s1[0] == '-':\n",
    "        gap_opens += 1\n",
    "    if s2[0] == '-':\n",
    "        gap_opens += 1\n",
    "    for i in range(1, len(s1)):  \n",
    "        if s1[i] == '-' and s1[i-1] != '-':\n",
    "            gap_opens += 1\n",
    "        if s2[i] == '-' and s2[i-1] != '-':\n",
    "            gap_opens += 1\n",
    "    return gap_opens\n",
    "\n",
    "def countGapExtensions(s1, s2):\n",
    "    gap_extensions = 0\n",
    "    for i in range(1, len(s1)):\n",
    "        if s1[i] == '-' and s1[i-1] == '-':\n",
    "            gap_extensions += 1\n",
    "        if s2[i] == '-' and s2[i-1] == '-':\n",
    "            gap_extensions += 1\n",
    "    return gap_extensions\n",
    "\n",
    "def getScore(s1, s2, matchScore, mismatchPenalty, gapOpenPenalty, gapExtensionPenalty):\n",
    "    matches = countMatches(s1, s2)\n",
    "    mismatches = countMismatches(s1, s2)\n",
    "    gap_opens = countGapOpens(s1, s2)\n",
    "    gap_extensions = countGapExtensions(s1, s2)\n",
    "\n",
    "    score = 0   \n",
    "    score += matches * matchScore\n",
    "    score += mismatches * mismatchPenalty\n",
    "    score += gap_opens * gapOpenPenalty\n",
    "    score += gap_extensions * gapExtensionPenalty\n",
    "    return score"
   ]
  },
  {
   "cell_type": "markdown",
   "metadata": {
    "id": "81O19v1fpkzo"
   },
   "source": [
    "### Test\n",
    "Align the sequences of the [Interleukin-12](https://en.wikipedia.org/wiki/Interleukin_12) chain A (denoted as `s1`) from the file [`IL12A.fasta`](https://qcbsciprolab2020.readthedocs.io/en/latest/file_samples/IL12A.fasta) and the Interleukin-12 chain B (denoted as `s2`) from the file [`IL12B.fasta`](https://qcbsciprolab2020.readthedocs.io/en/latest/file_samples/IL12B.fasta) and check the score as computed from pairwise2 and from your functions."
   ]
  },
  {
   "cell_type": "code",
   "execution_count": null,
   "metadata": {
    "id": "ZBhfr3jepkzp"
   },
   "outputs": [],
   "source": [
    "# add the output of the test here\n",
    "\n",
    "from Bio import pairwise2\n",
    "from Bio import SeqIO\n",
    "\n",
    "record = SeqIO.read(\"IL12A.fasta\", \"fasta\")\n",
    "s1 =  record.seq\n",
    "\n",
    "record2 = SeqIO.read(\"IL12B.fasta\", \"fasta\")\n",
    "s2 = record2.seq\n",
    "\n",
    "alignments = pairwise2.align.globalms(s1, s2, 1, -1, -0.5, -0.2)\n",
    "alignment = alignments[0]\n",
    "print(alignment.score) # 3.3999999999999844\n",
    "\n",
    "s1, s2 = alignments[0][0], alignments[0][1]\n",
    "print(getScore(s1, s2, 1, -1, -0.5, -0.2)) # 3.3999999999999986"
   ]
  }
 ],
 "metadata": {
  "colab": {
   "provenance": []
  },
  "kernelspec": {
   "display_name": "base",
   "language": "python",
   "name": "python3"
  },
  "language_info": {
   "codemirror_mode": {
    "name": "ipython",
    "version": 3
   },
   "file_extension": ".py",
   "mimetype": "text/x-python",
   "name": "python",
   "nbconvert_exporter": "python",
   "pygments_lexer": "ipython3",
   "version": "3.11.5"
  }
 },
 "nbformat": 4,
 "nbformat_minor": 0
}
